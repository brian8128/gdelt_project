{
 "cells": [
  {
   "cell_type": "code",
   "execution_count": 85,
   "metadata": {
    "collapsed": false
   },
   "outputs": [],
   "source": [
    "import pandas as pd\n",
    "from os import listdir\n",
    "from os.path import isfile, join\n",
    "import datetime\n",
    "import time\n",
    "import calendar"
   ]
  },
  {
   "cell_type": "code",
   "execution_count": 7,
   "metadata": {
    "collapsed": true
   },
   "outputs": [],
   "source": [
    "data_path = \"/Users/Brian/Data/gdelt/data/201512_5min/us/nasdaq stocks/1/\""
   ]
  },
  {
   "cell_type": "code",
   "execution_count": 9,
   "metadata": {
    "collapsed": false
   },
   "outputs": [],
   "source": [
    "data_files = listdir(data_path)"
   ]
  },
  {
   "cell_type": "code",
   "execution_count": 17,
   "metadata": {
    "collapsed": true
   },
   "outputs": [],
   "source": [
    "df_tmp = pd.read_csv(data_path + data_files[0], usecols=[0, 1, 2])"
   ]
  },
  {
   "cell_type": "code",
   "execution_count": 18,
   "metadata": {
    "collapsed": false
   },
   "outputs": [
    {
     "data": {
      "text/html": [
       "<div>\n",
       "<table border=\"1\" class=\"dataframe\">\n",
       "  <thead>\n",
       "    <tr style=\"text-align: right;\">\n",
       "      <th></th>\n",
       "      <th>Date</th>\n",
       "      <th>Time</th>\n",
       "      <th>Open</th>\n",
       "    </tr>\n",
       "  </thead>\n",
       "  <tbody>\n",
       "    <tr>\n",
       "      <th>0</th>\n",
       "      <td>2015-11-12</td>\n",
       "      <td>15:35:00</td>\n",
       "      <td>24.2500</td>\n",
       "    </tr>\n",
       "    <tr>\n",
       "      <th>1</th>\n",
       "      <td>2015-11-12</td>\n",
       "      <td>15:40:00</td>\n",
       "      <td>23.3500</td>\n",
       "    </tr>\n",
       "    <tr>\n",
       "      <th>2</th>\n",
       "      <td>2015-11-12</td>\n",
       "      <td>15:45:00</td>\n",
       "      <td>23.1501</td>\n",
       "    </tr>\n",
       "    <tr>\n",
       "      <th>3</th>\n",
       "      <td>2015-11-12</td>\n",
       "      <td>15:50:00</td>\n",
       "      <td>22.7000</td>\n",
       "    </tr>\n",
       "    <tr>\n",
       "      <th>4</th>\n",
       "      <td>2015-11-12</td>\n",
       "      <td>15:55:00</td>\n",
       "      <td>23.7947</td>\n",
       "    </tr>\n",
       "  </tbody>\n",
       "</table>\n",
       "</div>"
      ],
      "text/plain": [
       "         Date      Time     Open\n",
       "0  2015-11-12  15:35:00  24.2500\n",
       "1  2015-11-12  15:40:00  23.3500\n",
       "2  2015-11-12  15:45:00  23.1501\n",
       "3  2015-11-12  15:50:00  22.7000\n",
       "4  2015-11-12  15:55:00  23.7947"
      ]
     },
     "execution_count": 18,
     "metadata": {},
     "output_type": "execute_result"
    }
   ],
   "source": [
    "df_tmp.head()"
   ]
  },
  {
   "cell_type": "code",
   "execution_count": 55,
   "metadata": {
    "collapsed": false
   },
   "outputs": [
    {
     "data": {
      "text/plain": [
       "'aaap'"
      ]
     },
     "execution_count": 55,
     "metadata": {},
     "output_type": "execute_result"
    }
   ],
   "source": [
    "company_symbol = data_files[0].split('.')[0]\n",
    "company_symbol"
   ]
  },
  {
   "cell_type": "code",
   "execution_count": 57,
   "metadata": {
    "collapsed": false
   },
   "outputs": [
    {
     "data": {
      "text/plain": [
       "1447342500"
      ]
     },
     "execution_count": 57,
     "metadata": {},
     "output_type": "execute_result"
    }
   ],
   "source": [
    "# This assumes that the given dates and times are in GMT\n",
    "date_str = df.iloc()[0][0]\n",
    "time_str = df.iloc()[0][1]\n",
    "d = datetime.datetime.strptime(date_str + \"T\" + time_str, \"%Y-%m-%dT%H:%M:%S\")\n",
    "timestamp = calendar.timegm(d.timetuple())\n",
    "timestamp"
   ]
  },
  {
   "cell_type": "code",
   "execution_count": 72,
   "metadata": {
    "collapsed": false
   },
   "outputs": [],
   "source": [
    "def f(s):\n",
    "    '''\n",
    "    Translates a string that looks like \"%Y-%m-%dT%H:%M:%S\" and is already in gmt\n",
    "    into a timestamp\n",
    "    '''\n",
    "    d = datetime.datetime.strptime(s, \"%Y-%m-%dT%H:%M:%S\")\n",
    "    return calendar.timegm(d.timetuple())\n",
    "\n",
    "df['timestamp'] = (df['Date'] + 'T' + df['Time']).apply(f)"
   ]
  },
  {
   "cell_type": "code",
   "execution_count": 83,
   "metadata": {
    "collapsed": false
   },
   "outputs": [],
   "source": [
    "df = df.set_index(['timestamp'])"
   ]
  },
  {
   "cell_type": "code",
   "execution_count": 84,
   "metadata": {
    "collapsed": false
   },
   "outputs": [
    {
     "data": {
      "text/plain": [
       "timestamp\n",
       "1447342500    24.2500\n",
       "1447342800    23.3500\n",
       "1447343100    23.1501\n",
       "1447343400    22.7000\n",
       "1447343700    23.7947\n",
       "1447344000    23.9000\n",
       "1447344300    24.8000\n",
       "1447344600    24.8200\n",
       "1447344900    24.9246\n",
       "1447345200    26.9100\n",
       "1447345500    26.3999\n",
       "1447345800    26.3900\n",
       "1447346100    26.0000\n",
       "1447346400    25.4999\n",
       "1447346700    25.5000\n",
       "1447347900    25.8500\n",
       "1447348200    25.9900\n",
       "1447348500    25.8500\n",
       "1447348800    25.9170\n",
       "1447349100    25.6200\n",
       "1447349400    25.9850\n",
       "1447350000    26.0800\n",
       "1447350300    26.1200\n",
       "1447351200    26.1500\n",
       "1447352100    26.2000\n",
       "1447352400    26.1500\n",
       "1447352700    26.1000\n",
       "1447353000    26.0999\n",
       "1447353300    25.8340\n",
       "1447353600    26.1000\n",
       "               ...   \n",
       "1449778500    28.6200\n",
       "1449781200    28.9200\n",
       "1449784800    29.1000\n",
       "1449848100    29.9800\n",
       "1449848400    28.6550\n",
       "1449848700    30.5000\n",
       "1449850500    29.0600\n",
       "1449851700    29.5000\n",
       "1449852300    29.0000\n",
       "1449853500    28.3101\n",
       "1449855300    29.2600\n",
       "1449855600    29.0000\n",
       "1449855900    29.1300\n",
       "1449856200    29.2050\n",
       "1449856500    29.4200\n",
       "1449857100    29.4400\n",
       "1449857400    29.5600\n",
       "1449857700    29.6600\n",
       "1449858300    29.5700\n",
       "1449858600    29.7399\n",
       "1449859500    29.5000\n",
       "1449863700    29.6300\n",
       "1449865500    29.7400\n",
       "1449865800    29.7400\n",
       "1449867600    29.4300\n",
       "1449868500    29.8300\n",
       "1449870000    30.2100\n",
       "1449870300    30.0200\n",
       "1449870600    29.0712\n",
       "1449871200    30.0000\n",
       "Name: Open, dtype: float64"
      ]
     },
     "execution_count": 84,
     "metadata": {},
     "output_type": "execute_result"
    }
   ],
   "source": [
    "df['Open']"
   ]
  },
  {
   "cell_type": "code",
   "execution_count": 76,
   "metadata": {
    "collapsed": false
   },
   "outputs": [
    {
     "data": {
      "text/html": [
       "<div>\n",
       "<table border=\"1\" class=\"dataframe\">\n",
       "  <thead>\n",
       "    <tr style=\"text-align: right;\">\n",
       "      <th></th>\n",
       "      <th>Date</th>\n",
       "      <th>Time</th>\n",
       "      <th>Open</th>\n",
       "      <th>timestamp</th>\n",
       "    </tr>\n",
       "  </thead>\n",
       "  <tbody>\n",
       "    <tr>\n",
       "      <th>0</th>\n",
       "      <td>2015-11-12</td>\n",
       "      <td>15:35:00</td>\n",
       "      <td>24.2500</td>\n",
       "      <td>1447342500</td>\n",
       "    </tr>\n",
       "    <tr>\n",
       "      <th>1</th>\n",
       "      <td>2015-11-12</td>\n",
       "      <td>15:40:00</td>\n",
       "      <td>23.3500</td>\n",
       "      <td>1447342800</td>\n",
       "    </tr>\n",
       "    <tr>\n",
       "      <th>2</th>\n",
       "      <td>2015-11-12</td>\n",
       "      <td>15:45:00</td>\n",
       "      <td>23.1501</td>\n",
       "      <td>1447343100</td>\n",
       "    </tr>\n",
       "    <tr>\n",
       "      <th>3</th>\n",
       "      <td>2015-11-12</td>\n",
       "      <td>15:50:00</td>\n",
       "      <td>22.7000</td>\n",
       "      <td>1447343400</td>\n",
       "    </tr>\n",
       "    <tr>\n",
       "      <th>4</th>\n",
       "      <td>2015-11-12</td>\n",
       "      <td>15:55:00</td>\n",
       "      <td>23.7947</td>\n",
       "      <td>1447343700</td>\n",
       "    </tr>\n",
       "  </tbody>\n",
       "</table>\n",
       "</div>"
      ],
      "text/plain": [
       "         Date      Time     Open   timestamp\n",
       "0  2015-11-12  15:35:00  24.2500  1447342500\n",
       "1  2015-11-12  15:40:00  23.3500  1447342800\n",
       "2  2015-11-12  15:45:00  23.1501  1447343100\n",
       "3  2015-11-12  15:50:00  22.7000  1447343400\n",
       "4  2015-11-12  15:55:00  23.7947  1447343700"
      ]
     },
     "execution_count": 76,
     "metadata": {},
     "output_type": "execute_result"
    }
   ],
   "source": [
    "df.head()\n"
   ]
  },
  {
   "cell_type": "code",
   "execution_count": null,
   "metadata": {
    "collapsed": true
   },
   "outputs": [],
   "source": []
  }
 ],
 "metadata": {
  "kernelspec": {
   "display_name": "Python 2",
   "language": "python",
   "name": "python2"
  },
  "language_info": {
   "codemirror_mode": {
    "name": "ipython",
    "version": 2
   },
   "file_extension": ".py",
   "mimetype": "text/x-python",
   "name": "python",
   "nbconvert_exporter": "python",
   "pygments_lexer": "ipython2",
   "version": "2.7.11"
  }
 },
 "nbformat": 4,
 "nbformat_minor": 0
}
